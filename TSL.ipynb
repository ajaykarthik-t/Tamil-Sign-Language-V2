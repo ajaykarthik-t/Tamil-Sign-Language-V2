{
 "cells": [
  {
   "cell_type": "code",
   "execution_count": 1,
   "id": "5ab9e27c",
   "metadata": {},
   "outputs": [
    {
     "name": "stdout",
     "output_type": "stream",
     "text": [
      "WARNING:tensorflow:From C:\\Users\\Ajay\\anaconda3\\envs\\py310\\lib\\site-packages\\tf_keras\\src\\losses.py:2976: The name tf.losses.sparse_softmax_cross_entropy is deprecated. Please use tf.compat.v1.losses.sparse_softmax_cross_entropy instead.\n",
      "\n"
     ]
    }
   ],
   "source": [
    "import os\n",
    "import pathlib\n",
    "import pandas as pd\n",
    "import numpy as np\n",
    "import seaborn as sns\n",
    "import matplotlib.pyplot as plt\n",
    "import matplotlib.image as mpimg\n",
    "import shutil\n",
    "import random\n",
    "import tensorflow as tf\n",
    "from tensorflow import keras\n",
    "import tensorflow_hub as hub\n",
    "from tensorflow.keras.preprocessing.image import ImageDataGenerator\n",
    "from tensorflow.keras.models import Sequential\n",
    "from tensorflow.keras.layers import Conv2D, MaxPool2D, Dense, Flatten, Dropout, BatchNormalization, GlobalAveragePooling2D, Activation, GlobalMaxPool2D, BatchNormalization\n",
    "from tensorflow.keras.optimizers import Adam, Nadam\n",
    "from tensorflow.keras import Input, Model\n",
    "from tensorflow.keras.utils import plot_model\n",
    "from sklearn.metrics import classification_report, confusion_matrix, ConfusionMatrixDisplay\n",
    "import splitfolders"
   ]
  },
  {
   "cell_type": "code",
   "execution_count": 2,
   "id": "8b19617c",
   "metadata": {},
   "outputs": [
    {
     "name": "stderr",
     "output_type": "stream",
     "text": [
      "Copying files: 13721 files [01:49, 124.96 files/s]\n"
     ]
    }
   ],
   "source": [
    "# splits dataset it into three subfolders: train, val (validation), and test.\n",
    "\n",
    "splitfolders.ratio(r\"C:\\Users\\Ajay\\Desktop\\Inno_Projects\\Tamil_Sign_Language\\Datasett\", output=\"output\",\n",
    "    seed=1337, ratio=(.75, .2, .05), group_prefix=None, move=False)"
   ]
  },
  {
   "cell_type": "code",
   "execution_count": 3,
   "id": "afafe9ee",
   "metadata": {},
   "outputs": [],
   "source": [
    "data_dir = pathlib.Path('output/')\n",
    "train_dir = 'output/train'\n",
    "val_dir = 'output/val'\n",
    "test_dir = 'output/test'"
   ]
  },
  {
   "cell_type": "code",
   "execution_count": 4,
   "id": "a853fbf9",
   "metadata": {},
   "outputs": [
    {
     "name": "stdout",
     "output_type": "stream",
     "text": [
      "['test' 'train' 'val']\n"
     ]
    }
   ],
   "source": [
    "class_name = np.array(sorted([item.name for item in data_dir.glob(\"*\")]))\n",
    "print(class_name)"
   ]
  },
  {
   "cell_type": "code",
   "execution_count": 5,
   "id": "666da4bd",
   "metadata": {},
   "outputs": [
    {
     "name": "stdout",
     "output_type": "stream",
     "text": [
      "3 folder and 0 images in output\n",
      "13 folder and 0 images in output\\test\n",
      "0 folder and 59 images in output\\test\\1\n",
      "0 folder and 60 images in output\\test\\10\n",
      "0 folder and 57 images in output\\test\\11\n",
      "0 folder and 62 images in output\\test\\12\n",
      "0 folder and 60 images in output\\test\\13\n",
      "0 folder and 61 images in output\\test\\2\n",
      "0 folder and 61 images in output\\test\\3\n",
      "0 folder and 60 images in output\\test\\4\n",
      "0 folder and 58 images in output\\test\\5\n",
      "0 folder and 59 images in output\\test\\6\n",
      "0 folder and 62 images in output\\test\\7\n",
      "0 folder and 58 images in output\\test\\8\n",
      "0 folder and 61 images in output\\test\\9\n",
      "13 folder and 0 images in output\\train\n",
      "0 folder and 816 images in output\\train\\1\n",
      "0 folder and 810 images in output\\train\\10\n",
      "0 folder and 803 images in output\\train\\11\n",
      "0 folder and 821 images in output\\train\\12\n",
      "0 folder and 811 images in output\\train\\13\n",
      "0 folder and 816 images in output\\train\\2\n",
      "0 folder and 813 images in output\\train\\3\n",
      "0 folder and 811 images in output\\train\\4\n",
      "0 folder and 806 images in output\\train\\5\n",
      "0 folder and 787 images in output\\train\\6\n",
      "0 folder and 828 images in output\\train\\7\n",
      "0 folder and 802 images in output\\train\\8\n",
      "0 folder and 817 images in output\\train\\9\n",
      "13 folder and 0 images in output\\val\n",
      "0 folder and 227 images in output\\val\\1\n",
      "0 folder and 232 images in output\\val\\10\n",
      "0 folder and 228 images in output\\val\\11\n",
      "0 folder and 234 images in output\\val\\12\n",
      "0 folder and 229 images in output\\val\\13\n",
      "0 folder and 231 images in output\\val\\2\n",
      "0 folder and 230 images in output\\val\\3\n",
      "0 folder and 229 images in output\\val\\4\n",
      "0 folder and 228 images in output\\val\\5\n",
      "0 folder and 224 images in output\\val\\6\n",
      "0 folder and 235 images in output\\val\\7\n",
      "0 folder and 230 images in output\\val\\8\n",
      "0 folder and 232 images in output\\val\\9\n"
     ]
    }
   ],
   "source": [
    "for dirpath, dirnames, filenames in os.walk('output'):\n",
    "  print(f\"{len(dirnames)} folder and {len(filenames)} images in {dirpath}\")"
   ]
  },
  {
   "cell_type": "code",
   "execution_count": 6,
   "id": "aaea6071",
   "metadata": {},
   "outputs": [],
   "source": [
    "def view_random_image(target_dir, target_class):\n",
    "    target_folder = target_dir + target_class\n",
    "    random_image = random.sample(os.listdir(target_folder), 1)\n",
    "    img = mpimg.imread(target_folder + \"/\" + random_image[0])\n",
    "    plt.imshow(img)\n",
    "    plt.title(target_class)\n",
    "    plt.axis(\"off\")\n",
    "    \n",
    "    print(f\"Image Shape : {img.shape}\")\n",
    "    plt.show()"
   ]
  },
  {
   "cell_type": "code",
   "execution_count": 7,
   "id": "b705ace9",
   "metadata": {
    "scrolled": true
   },
   "outputs": [
    {
     "name": "stdout",
     "output_type": "stream",
     "text": [
      "Image Shape : (480, 640, 3)\n"
     ]
    },
    {
     "data": {
      "image/png": "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